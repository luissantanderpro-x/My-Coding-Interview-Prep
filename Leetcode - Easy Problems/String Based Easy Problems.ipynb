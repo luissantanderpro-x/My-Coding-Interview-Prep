{
 "cells": [
  {
   "cell_type": "markdown",
   "metadata": {},
   "source": [
    "### Important Imports "
   ]
  },
  {
   "cell_type": "code",
   "execution_count": 2,
   "metadata": {},
   "outputs": [],
   "source": [
    "from typing import List "
   ]
  },
  {
   "cell_type": "markdown",
   "metadata": {},
   "source": [
    "### Essential String Methods \n",
    "\n",
    "**s.find(c: str) -> int:** - gets the index of the first occurance of the char value \n",
    "\n",
    "**''.join(c: str) -> str** - joins two strings together \n",
    "\n",
    "**reversed(string: str) -> str** - gets a string and reverses it.\n",
    "\n",
    "**string[::-1]** - reverses a string"
   ]
  },
  {
   "cell_type": "markdown",
   "metadata": {},
   "source": [
    "### 242. Valid Anagram\n",
    "\n",
    "### URL\n",
    "https://leetcode.com/problems/valid-anagram/description/\n",
    "\n",
    "#### Problem\n",
    "- Given two strings s and t return true if t is an anagram of s and false otherwise.\n",
    "\n",
    "#### Examples:\n",
    "Input: s = 'anagram', t = 'nagaram'\n",
    "\n",
    "Output: true\n",
    "\n",
    "#### Constraints \n",
    "\n",
    "1 <= s.length, t.length <= 5 * 104\n",
    "s and t consist of lowercase English letters."
   ]
  },
  {
   "cell_type": "code",
   "execution_count": null,
   "metadata": {},
   "outputs": [],
   "source": [
    "def isAnagram(s: str, t: str) -> bool: \n",
    "    if (len(s) != len(t)):\n",
    "        return False \n",
    "    hash_map1 = {} \n",
    "    for c in s:\n",
    "        if (c not in hash_map1):\n",
    "            hash_map1[c] = 1 \n",
    "        else:\n",
    "            hash_map1[c] += 1\n",
    "    for c in t:\n",
    "        if (c not in hash_map1):\n",
    "            return False\n",
    "        else:\n",
    "            hash_map1[c] -= 1 \n",
    "            if (hash_map1[c] == 0):\n",
    "                del hash_map1[c] \n",
    "    return True \n",
    "\n",
    "def isAnagram_cleaner(s: str, t: str) -> bool:\n",
    "    if (len(s) != len(t)):\n",
    "        return False \n",
    "    \n",
    "    countS, countT = {}, {}\n",
    "\n",
    "    for i in range(len(s)):\n",
    "        countS[s[i]] = 1 + countS.get(s[i], 0)\n",
    "        countS[t[i]] = 1 + countT.get(t[i], 0)\n",
    "\n",
    "    for c in countS:\n",
    "        if countS[c] != countT.get(c, 0):\n",
    "            return False \n",
    "    \n",
    "    return True \n",
    "\n",
    "s1 = 'anagram'\n",
    "t1 = 'nagaram'\n",
    "\n",
    "# isAnagram(s1, t1)\n",
    "isAnagram_cleaner(s1, t1)"
   ]
  },
  {
   "cell_type": "markdown",
   "metadata": {},
   "source": []
  }
 ],
 "metadata": {
  "kernelspec": {
   "display_name": "Python 3",
   "language": "python",
   "name": "python3"
  },
  "language_info": {
   "codemirror_mode": {
    "name": "ipython",
    "version": 3
   },
   "file_extension": ".py",
   "mimetype": "text/x-python",
   "name": "python",
   "nbconvert_exporter": "python",
   "pygments_lexer": "ipython3",
   "version": "3.12.2"
  }
 },
 "nbformat": 4,
 "nbformat_minor": 2
}
